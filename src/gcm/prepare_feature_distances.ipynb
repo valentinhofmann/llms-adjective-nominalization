{
 "cells": [
  {
   "cell_type": "code",
   "execution_count": null,
   "metadata": {},
   "outputs": [],
   "source": [
    "import json\n",
    "from itertools import chain, combinations\n",
    "\n",
    "import pandas as pd"
   ]
  },
  {
   "cell_type": "code",
   "execution_count": null,
   "metadata": {},
   "outputs": [],
   "source": [
    "def powerset(iterable):\n",
    "    s = set(iterable)\n",
    "    return [\n",
    "        tuple(sorted(el)) for el in chain.from_iterable(combinations(s, r) for r in range(len(s) + 1))\n",
    "    ]"
   ]
  },
  {
   "cell_type": "code",
   "execution_count": null,
   "metadata": {},
   "outputs": [],
   "source": [
    "def get_natural_classes(p, natural_classes):\n",
    "    p_natural_classes = set()\n",
    "    for natural_class in natural_classes:\n",
    "        if p in natural_class:\n",
    "            p_natural_classes.add(natural_class)\n",
    "    return p_natural_classes"
   ]
  },
  {
   "cell_type": "code",
   "execution_count": null,
   "metadata": {},
   "outputs": [],
   "source": [
    "feature_table = pd.read_csv(\"table.fea\", sep=\"\\t\")\n",
    "feature_table = feature_table.iloc[1:-2, 1:].reset_index(drop=True)"
   ]
  },
  {
   "cell_type": "code",
   "execution_count": null,
   "metadata": {},
   "outputs": [],
   "source": [
    "phoneme2features = {}\n",
    "for i in range(len(feature_table)):\n",
    "    phoneme_features = feature_table.iloc[i, 1:].astype(int)\n",
    "    phoneme2features[feature_table.iloc[i, 0]] = tuple(sorted([\n",
    "        f\"{f}{phoneme_features[f]}\" for f in phoneme_features.index if phoneme_features[f] >= 0\n",
    "    ]))"
   ]
  },
  {
   "cell_type": "code",
   "execution_count": null,
   "metadata": {},
   "outputs": [],
   "source": [
    "feature_combinations = set()\n",
    "for features in phoneme2features.values():\n",
    "    feature_combinations.update(\n",
    "        powerset(features)\n",
    "    )"
   ]
  },
  {
   "cell_type": "code",
   "execution_count": null,
   "metadata": {},
   "outputs": [],
   "source": [
    "natural_classes = set()\n",
    "for feature_combination in feature_combinations:\n",
    "    phonemes = \"\".join(\n",
    "        sorted([p for p in phoneme2features if set(feature_combination) <= set(phoneme2features[p])])\n",
    "    )\n",
    "    natural_classes.add(phonemes)"
   ]
  },
  {
   "cell_type": "code",
   "execution_count": null,
   "metadata": {},
   "outputs": [],
   "source": [
    "distances = {}\n",
    "for p_i in phoneme2features:\n",
    "    for p_j in phoneme2features:\n",
    "        if p_i == p_j:\n",
    "            continue\n",
    "        p_i_ncs = get_natural_classes(p_i, natural_classes)\n",
    "        p_j_ncs = get_natural_classes(p_j, natural_classes)\n",
    "        distances[f\"{p_i}_{p_j}\"] = 1 - (len(p_i_ncs & p_j_ncs) / len(p_i_ncs | p_j_ncs))"
   ]
  },
  {
   "cell_type": "code",
   "execution_count": null,
   "metadata": {},
   "outputs": [],
   "source": [
    "with open(\"feature_distances.json\", \"w\") as f:\n",
    "    json.dump(distances, f, sort_keys=True, indent=4)"
   ]
  }
 ],
 "metadata": {
  "kernelspec": {
   "display_name": "dusen",
   "language": "python",
   "name": "python3"
  },
  "language_info": {
   "codemirror_mode": {
    "name": "ipython",
    "version": 3
   },
   "file_extension": ".py",
   "mimetype": "text/x-python",
   "name": "python",
   "nbconvert_exporter": "python",
   "pygments_lexer": "ipython3",
   "version": "3.10.8"
  },
  "orig_nbformat": 4
 },
 "nbformat": 4,
 "nbformat_minor": 2
}
