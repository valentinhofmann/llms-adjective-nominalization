{
 "cells": [
  {
   "cell_type": "code",
   "execution_count": null,
   "metadata": {},
   "outputs": [],
   "source": [
    "import json\n",
    "import tqdm\n",
    "\n",
    "import numpy as np\n",
    "import pandas as pd\n",
    "\n",
    "import helpers"
   ]
  },
  {
   "cell_type": "code",
   "execution_count": null,
   "metadata": {},
   "outputs": [],
   "source": [
    "# Load feature distances\n",
    "with open(\"feature_distances.json\", \"r\") as f:\n",
    "    distances = json.load(f)"
   ]
  },
  {
   "cell_type": "code",
   "execution_count": null,
   "metadata": {},
   "outputs": [],
   "source": [
    "# Load IPA mappings\n",
    "with open(f\"nonce.txt\", \"r\") as f:\n",
    "    ipa_bases = f.read().strip().split(\"\\n\")\n",
    "ipa_bases = {\n",
    "    ipa_base.split(\"\\t\")[1]: ipa_base.split(\"\\t\")[0] for ipa_base in ipa_bases\n",
    "}"
   ]
  },
  {
   "cell_type": "code",
   "execution_count": null,
   "metadata": {},
   "outputs": [],
   "source": [
    "# Define GCM hyperparameters\n",
    "c, s, p = 0.6, 3e-01, 1"
   ]
  },
  {
   "cell_type": "code",
   "execution_count": null,
   "metadata": {},
   "outputs": [],
   "source": [
    "# Define suffixes\n",
    "suffixes = [\"able\", \"ish\", \"ive\", \"ous\"]"
   ]
  },
  {
   "cell_type": "code",
   "execution_count": null,
   "metadata": {},
   "outputs": [],
   "source": [
    "# Run type-based GCM\n",
    "preds = {}\n",
    "for suffix in suffixes:\n",
    "\n",
    "    # Load exemplars\n",
    "    with open(f\"exemplars/{suffix}.in\", \"r\") as f:\n",
    "        lines = f.read().strip().split(\"\\n\")\n",
    "    train_forms = lines[1:lines.index(\"Test forms:\")]\n",
    "    test_forms = lines[lines.index(\"Test forms:\") + 1:]\n",
    "\n",
    "    # Prepare training data\n",
    "    columns = [\n",
    "        \"ipa_base\", \n",
    "        \"ipa_derivative\", \n",
    "        \"frequency\", \n",
    "        \"base\", \n",
    "        \"derivative\", \n",
    "        \"suffix\"\n",
    "    ]\n",
    "    train_data = pd.DataFrame(\n",
    "        [l.split(\"\\t\") for l in train_forms], \n",
    "        columns=columns\n",
    "    )\n",
    "\n",
    "    # Make predictions\n",
    "    for test_form in tqdm.tqdm(test_forms):\n",
    "        suffix_pred, score = helpers.predict_suffix(\n",
    "            test_form, \n",
    "            train_data,\n",
    "            distances,\n",
    "            c,\n",
    "            s,\n",
    "            p\n",
    "        )\n",
    "        preds[ipa_bases[test_form]] = (suffix_pred, score)\n",
    "\n",
    "# Store predictions\n",
    "with open(f\"preds_type.json\", \"w\") as f:\n",
    "    json.dump(preds, f, sort_keys=True, indent=4)"
   ]
  },
  {
   "cell_type": "code",
   "execution_count": null,
   "metadata": {},
   "outputs": [],
   "source": [
    "# Run token-based GCM\n",
    "preds = {}\n",
    "for suffix in suffixes:\n",
    "\n",
    "    # Load exemplars\n",
    "    with open(f\"exemplars/{suffix}.in\", \"r\") as f:\n",
    "        lines = f.read().strip().split(\"\\n\")\n",
    "    train_forms = lines[1:lines.index(\"Test forms:\")]\n",
    "    test_forms = lines[lines.index(\"Test forms:\") + 1:]\n",
    "\n",
    "    # Prepare training data\n",
    "    columns = [\n",
    "        \"ipa_base\", \n",
    "        \"ipa_derivative\", \n",
    "        \"frequency\", \n",
    "        \"base\", \n",
    "        \"derivative\", \n",
    "        \"suffix\"\n",
    "    ]\n",
    "    train_data = pd.DataFrame(\n",
    "        [l.split(\"\\t\") for l in train_forms], \n",
    "        columns=columns\n",
    "    )\n",
    "\n",
    "    # Make predictions\n",
    "    for test_form in tqdm.tqdm(test_forms):\n",
    "        suffix_pred, score = helpers.predict_suffix(\n",
    "            test_form, \n",
    "            train_data,\n",
    "            distances,\n",
    "            c,\n",
    "            s,\n",
    "            p,\n",
    "            True\n",
    "        )\n",
    "        preds[ipa_bases[test_form]] = (suffix_pred, score)\n",
    "\n",
    "# Store predictions\n",
    "with open(f\"preds_token.json\", \"w\") as f:\n",
    "    json.dump(preds, f, sort_keys=True, indent=4)"
   ]
  }
 ],
 "metadata": {
  "kernelspec": {
   "display_name": "dusen",
   "language": "python",
   "name": "python3"
  },
  "language_info": {
   "codemirror_mode": {
    "name": "ipython",
    "version": 3
   },
   "file_extension": ".py",
   "mimetype": "text/x-python",
   "name": "python",
   "nbconvert_exporter": "python",
   "pygments_lexer": "ipython3",
   "version": "3.10.8"
  },
  "orig_nbformat": 4
 },
 "nbformat": 4,
 "nbformat_minor": 2
}
